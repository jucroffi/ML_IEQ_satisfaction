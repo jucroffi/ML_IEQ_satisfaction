{
 "cells": [
  {
   "cell_type": "code",
   "execution_count": 1,
   "id": "21767eb6-9537-4723-b548-7e0458dd3398",
   "metadata": {
    "tags": []
   },
   "outputs": [
    {
     "name": "stdout",
     "output_type": "stream",
     "text": [
      "3.10.0\n",
      "2.19.0\n",
      "scikit-learn version: 1.6.1\n",
      "Python version: 3.12.9 | packaged by Anaconda, Inc. | (main, Feb  6 2025, 18:49:16) [MSC v.1929 64 bit (AMD64)]\n"
     ]
    }
   ],
   "source": [
    "import pandas as pd\n",
    "import numpy as np\n",
    "import re\n",
    "import os\n",
    "import random\n",
    "import matplotlib.pyplot as plt\n",
    "import seaborn as sns\n",
    "import joblib\n",
    "\n",
    "import sklearn\n",
    "from sklearn.preprocessing import StandardScaler, LabelEncoder\n",
    "from sklearn.model_selection import train_test_split\n",
    "from sklearn.metrics import accuracy_score, confusion_matrix, classification_report, roc_auc_score, f1_score, precision_score, recall_score\n",
    "from sklearn.utils import class_weight\n",
    "from sklearn.model_selection import StratifiedKFold\n",
    "\n",
    "import keras\n",
    "from keras.models import Sequential\n",
    "from keras.layers import Dense, Dropout\n",
    "from keras.optimizers import SGD\n",
    "from keras.constraints import MaxNorm\n",
    "from keras.utils import to_categorical\n",
    "\n",
    "\n",
    "from imblearn.over_sampling import ADASYN\n",
    "\n",
    "from sklearn.ensemble import RandomForestClassifier\n",
    "from sklearn.utils import class_weight\n",
    "\n",
    "\n",
    "import keras\n",
    "print(keras.__version__)\n",
    "\n",
    "import tensorflow as tf\n",
    "print(tf.__version__)\n",
    "\n",
    "import sklearn\n",
    "import sys\n",
    "from collections import defaultdict\n",
    "\n",
    "rs = 10\n",
    "tf.random.set_seed(rs)\n",
    "np.random.seed(rs)\n",
    "\n",
    "print(\"scikit-learn version:\", sklearn.__version__)\n",
    "print(\"Python version:\", sys.version)"
   ]
  },
  {
   "cell_type": "code",
   "execution_count": 20,
   "id": "bed69cc4-e2a7-4a82-bc5c-0b2504f5f406",
   "metadata": {
    "tags": []
   },
   "outputs": [],
   "source": [
    "path_i = r\"I:\\My Drive\\Data_Collected\\Offices_processed_ML.csv\""
   ]
  },
  {
   "cell_type": "code",
   "execution_count": 21,
   "id": "f75c1a28-8311-4517-8b54-c5dd1c48c057",
   "metadata": {
    "tags": []
   },
   "outputs": [],
   "source": [
    "col_study = ['t_sens', 't_satisf', 'daylight', 'dl_satisf', 'sound', 'sound_satisf', 'air_quali', 'o_satisf']\n",
    "classes = [\"Dissatisfied\", \"Neutral\", \"Satisfied\"]\n"
   ]
  },
  {
   "cell_type": "code",
   "execution_count": 22,
   "id": "873daa64-b78a-40e3-9a90-36851f37a5d5",
   "metadata": {
    "tags": []
   },
   "outputs": [
    {
     "data": {
      "text/html": [
       "<div>\n",
       "<style scoped>\n",
       "    .dataframe tbody tr th:only-of-type {\n",
       "        vertical-align: middle;\n",
       "    }\n",
       "\n",
       "    .dataframe tbody tr th {\n",
       "        vertical-align: top;\n",
       "    }\n",
       "\n",
       "    .dataframe thead th {\n",
       "        text-align: right;\n",
       "    }\n",
       "</style>\n",
       "<table border=\"1\" class=\"dataframe\">\n",
       "  <thead>\n",
       "    <tr style=\"text-align: right;\">\n",
       "      <th></th>\n",
       "      <th>t_sens</th>\n",
       "      <th>t_satisf</th>\n",
       "      <th>daylight</th>\n",
       "      <th>dl_satisf</th>\n",
       "      <th>sound</th>\n",
       "      <th>sound_satisf</th>\n",
       "      <th>air_quali</th>\n",
       "      <th>o_satisf</th>\n",
       "    </tr>\n",
       "  </thead>\n",
       "  <tbody>\n",
       "    <tr>\n",
       "      <th>0</th>\n",
       "      <td>-2</td>\n",
       "      <td>3</td>\n",
       "      <td>5</td>\n",
       "      <td>1.0</td>\n",
       "      <td>1</td>\n",
       "      <td>0</td>\n",
       "      <td>3</td>\n",
       "      <td>2</td>\n",
       "    </tr>\n",
       "    <tr>\n",
       "      <th>1</th>\n",
       "      <td>-2</td>\n",
       "      <td>3</td>\n",
       "      <td>5</td>\n",
       "      <td>0.0</td>\n",
       "      <td>1</td>\n",
       "      <td>0</td>\n",
       "      <td>4</td>\n",
       "      <td>1</td>\n",
       "    </tr>\n",
       "    <tr>\n",
       "      <th>2</th>\n",
       "      <td>0</td>\n",
       "      <td>5</td>\n",
       "      <td>3</td>\n",
       "      <td>1.0</td>\n",
       "      <td>3</td>\n",
       "      <td>1</td>\n",
       "      <td>4</td>\n",
       "      <td>2</td>\n",
       "    </tr>\n",
       "    <tr>\n",
       "      <th>3</th>\n",
       "      <td>-1</td>\n",
       "      <td>4</td>\n",
       "      <td>5</td>\n",
       "      <td>1.0</td>\n",
       "      <td>1</td>\n",
       "      <td>0</td>\n",
       "      <td>4</td>\n",
       "      <td>2</td>\n",
       "    </tr>\n",
       "    <tr>\n",
       "      <th>4</th>\n",
       "      <td>0</td>\n",
       "      <td>4</td>\n",
       "      <td>5</td>\n",
       "      <td>1.0</td>\n",
       "      <td>1</td>\n",
       "      <td>0</td>\n",
       "      <td>3</td>\n",
       "      <td>1</td>\n",
       "    </tr>\n",
       "    <tr>\n",
       "      <th>...</th>\n",
       "      <td>...</td>\n",
       "      <td>...</td>\n",
       "      <td>...</td>\n",
       "      <td>...</td>\n",
       "      <td>...</td>\n",
       "      <td>...</td>\n",
       "      <td>...</td>\n",
       "      <td>...</td>\n",
       "    </tr>\n",
       "    <tr>\n",
       "      <th>485</th>\n",
       "      <td>-1</td>\n",
       "      <td>3</td>\n",
       "      <td>3</td>\n",
       "      <td>1.0</td>\n",
       "      <td>2</td>\n",
       "      <td>0</td>\n",
       "      <td>5</td>\n",
       "      <td>2</td>\n",
       "    </tr>\n",
       "    <tr>\n",
       "      <th>486</th>\n",
       "      <td>-1</td>\n",
       "      <td>3</td>\n",
       "      <td>3</td>\n",
       "      <td>1.0</td>\n",
       "      <td>2</td>\n",
       "      <td>0</td>\n",
       "      <td>5</td>\n",
       "      <td>1</td>\n",
       "    </tr>\n",
       "    <tr>\n",
       "      <th>487</th>\n",
       "      <td>-1</td>\n",
       "      <td>5</td>\n",
       "      <td>4</td>\n",
       "      <td>1.0</td>\n",
       "      <td>5</td>\n",
       "      <td>1</td>\n",
       "      <td>5</td>\n",
       "      <td>2</td>\n",
       "    </tr>\n",
       "    <tr>\n",
       "      <th>488</th>\n",
       "      <td>0</td>\n",
       "      <td>4</td>\n",
       "      <td>5</td>\n",
       "      <td>1.0</td>\n",
       "      <td>5</td>\n",
       "      <td>1</td>\n",
       "      <td>5</td>\n",
       "      <td>2</td>\n",
       "    </tr>\n",
       "    <tr>\n",
       "      <th>489</th>\n",
       "      <td>1</td>\n",
       "      <td>4</td>\n",
       "      <td>5</td>\n",
       "      <td>1.0</td>\n",
       "      <td>5</td>\n",
       "      <td>1</td>\n",
       "      <td>5</td>\n",
       "      <td>2</td>\n",
       "    </tr>\n",
       "  </tbody>\n",
       "</table>\n",
       "<p>490 rows × 8 columns</p>\n",
       "</div>"
      ],
      "text/plain": [
       "     t_sens  t_satisf  daylight  dl_satisf  sound  sound_satisf  air_quali  \\\n",
       "0        -2         3         5        1.0      1             0          3   \n",
       "1        -2         3         5        0.0      1             0          4   \n",
       "2         0         5         3        1.0      3             1          4   \n",
       "3        -1         4         5        1.0      1             0          4   \n",
       "4         0         4         5        1.0      1             0          3   \n",
       "..      ...       ...       ...        ...    ...           ...        ...   \n",
       "485      -1         3         3        1.0      2             0          5   \n",
       "486      -1         3         3        1.0      2             0          5   \n",
       "487      -1         5         4        1.0      5             1          5   \n",
       "488       0         4         5        1.0      5             1          5   \n",
       "489       1         4         5        1.0      5             1          5   \n",
       "\n",
       "     o_satisf  \n",
       "0           2  \n",
       "1           1  \n",
       "2           2  \n",
       "3           2  \n",
       "4           1  \n",
       "..        ...  \n",
       "485         2  \n",
       "486         1  \n",
       "487         2  \n",
       "488         2  \n",
       "489         2  \n",
       "\n",
       "[490 rows x 8 columns]"
      ]
     },
     "execution_count": 22,
     "metadata": {},
     "output_type": "execute_result"
    }
   ],
   "source": [
    "df = pd.read_csv(path_i)\n",
    "df = df[col_study]\n",
    "df"
   ]
  },
  {
   "cell_type": "code",
   "execution_count": 28,
   "id": "be7cdb60",
   "metadata": {},
   "outputs": [
    {
     "name": "stdout",
     "output_type": "stream",
     "text": [
      "Class weights: None\n"
     ]
    }
   ],
   "source": [
    "y = df['o_satisf'].values \n",
    "\n",
    "class_weights_array = class_weight.compute_class_weight(class_weight='balanced', classes=np.unique(y),y=y)\n",
    "class_weights = dict(enumerate(class_weights_array))\n",
    "class_weights = None # Comment this line to run study using the class weights\n",
    "\n",
    "print(\"Class weights:\", class_weights)"
   ]
  },
  {
   "cell_type": "markdown",
   "id": "20824859",
   "metadata": {},
   "source": [
    "## NN Model"
   ]
  },
  {
   "cell_type": "code",
   "execution_count": 29,
   "id": "bc604f62",
   "metadata": {},
   "outputs": [
    {
     "name": "stderr",
     "output_type": "stream",
     "text": [
      "c:\\Users\\jucro\\anaconda3\\envs\\Python_PhD\\Lib\\site-packages\\keras\\src\\layers\\core\\dense.py:93: UserWarning: Do not pass an `input_shape`/`input_dim` argument to a layer. When using Sequential models, prefer using an `Input(shape)` object as the first layer in the model instead.\n",
      "  super().__init__(activity_regularizer=activity_regularizer, **kwargs)\n"
     ]
    },
    {
     "name": "stdout",
     "output_type": "stream",
     "text": [
      "\u001b[1m2/2\u001b[0m \u001b[32m━━━━━━━━━━━━━━━━━━━━\u001b[0m\u001b[37m\u001b[0m \u001b[1m0s\u001b[0m 104ms/step\n"
     ]
    },
    {
     "name": "stderr",
     "output_type": "stream",
     "text": [
      "c:\\Users\\jucro\\anaconda3\\envs\\Python_PhD\\Lib\\site-packages\\keras\\src\\layers\\core\\dense.py:93: UserWarning: Do not pass an `input_shape`/`input_dim` argument to a layer. When using Sequential models, prefer using an `Input(shape)` object as the first layer in the model instead.\n",
      "  super().__init__(activity_regularizer=activity_regularizer, **kwargs)\n"
     ]
    },
    {
     "name": "stdout",
     "output_type": "stream",
     "text": [
      "\u001b[1m2/2\u001b[0m \u001b[32m━━━━━━━━━━━━━━━━━━━━\u001b[0m\u001b[37m\u001b[0m \u001b[1m0s\u001b[0m 82ms/step\n"
     ]
    },
    {
     "name": "stderr",
     "output_type": "stream",
     "text": [
      "c:\\Users\\jucro\\anaconda3\\envs\\Python_PhD\\Lib\\site-packages\\keras\\src\\layers\\core\\dense.py:93: UserWarning: Do not pass an `input_shape`/`input_dim` argument to a layer. When using Sequential models, prefer using an `Input(shape)` object as the first layer in the model instead.\n",
      "  super().__init__(activity_regularizer=activity_regularizer, **kwargs)\n"
     ]
    },
    {
     "name": "stdout",
     "output_type": "stream",
     "text": [
      "WARNING:tensorflow:5 out of the last 5 calls to <function TensorFlowTrainer.make_predict_function.<locals>.one_step_on_data_distributed at 0x000001FD90020A40> triggered tf.function retracing. Tracing is expensive and the excessive number of tracings could be due to (1) creating @tf.function repeatedly in a loop, (2) passing tensors with different shapes, (3) passing Python objects instead of tensors. For (1), please define your @tf.function outside of the loop. For (2), @tf.function has reduce_retracing=True option that can avoid unnecessary retracing. For (3), please refer to https://www.tensorflow.org/guide/function#controlling_retracing and https://www.tensorflow.org/api_docs/python/tf/function for  more details.\n",
      "\u001b[1m1/2\u001b[0m \u001b[32m━━━━━━━━━━\u001b[0m\u001b[37m━━━━━━━━━━\u001b[0m \u001b[1m0s\u001b[0m 76ms/stepWARNING:tensorflow:6 out of the last 6 calls to <function TensorFlowTrainer.make_predict_function.<locals>.one_step_on_data_distributed at 0x000001FD90020A40> triggered tf.function retracing. Tracing is expensive and the excessive number of tracings could be due to (1) creating @tf.function repeatedly in a loop, (2) passing tensors with different shapes, (3) passing Python objects instead of tensors. For (1), please define your @tf.function outside of the loop. For (2), @tf.function has reduce_retracing=True option that can avoid unnecessary retracing. For (3), please refer to https://www.tensorflow.org/guide/function#controlling_retracing and https://www.tensorflow.org/api_docs/python/tf/function for  more details.\n",
      "\u001b[1m2/2\u001b[0m \u001b[32m━━━━━━━━━━━━━━━━━━━━\u001b[0m\u001b[37m\u001b[0m \u001b[1m0s\u001b[0m 82ms/step\n"
     ]
    },
    {
     "name": "stderr",
     "output_type": "stream",
     "text": [
      "c:\\Users\\jucro\\anaconda3\\envs\\Python_PhD\\Lib\\site-packages\\keras\\src\\layers\\core\\dense.py:93: UserWarning: Do not pass an `input_shape`/`input_dim` argument to a layer. When using Sequential models, prefer using an `Input(shape)` object as the first layer in the model instead.\n",
      "  super().__init__(activity_regularizer=activity_regularizer, **kwargs)\n"
     ]
    },
    {
     "name": "stdout",
     "output_type": "stream",
     "text": [
      "\u001b[1m2/2\u001b[0m \u001b[32m━━━━━━━━━━━━━━━━━━━━\u001b[0m\u001b[37m\u001b[0m \u001b[1m0s\u001b[0m 79ms/step\n"
     ]
    },
    {
     "name": "stderr",
     "output_type": "stream",
     "text": [
      "c:\\Users\\jucro\\anaconda3\\envs\\Python_PhD\\Lib\\site-packages\\keras\\src\\layers\\core\\dense.py:93: UserWarning: Do not pass an `input_shape`/`input_dim` argument to a layer. When using Sequential models, prefer using an `Input(shape)` object as the first layer in the model instead.\n",
      "  super().__init__(activity_regularizer=activity_regularizer, **kwargs)\n"
     ]
    },
    {
     "name": "stdout",
     "output_type": "stream",
     "text": [
      "\u001b[1m2/2\u001b[0m \u001b[32m━━━━━━━━━━━━━━━━━━━━\u001b[0m\u001b[37m\u001b[0m \u001b[1m0s\u001b[0m 85ms/step\n"
     ]
    },
    {
     "name": "stderr",
     "output_type": "stream",
     "text": [
      "c:\\Users\\jucro\\anaconda3\\envs\\Python_PhD\\Lib\\site-packages\\keras\\src\\layers\\core\\dense.py:93: UserWarning: Do not pass an `input_shape`/`input_dim` argument to a layer. When using Sequential models, prefer using an `Input(shape)` object as the first layer in the model instead.\n",
      "  super().__init__(activity_regularizer=activity_regularizer, **kwargs)\n"
     ]
    },
    {
     "name": "stdout",
     "output_type": "stream",
     "text": [
      "\u001b[1m2/2\u001b[0m \u001b[32m━━━━━━━━━━━━━━━━━━━━\u001b[0m\u001b[37m\u001b[0m \u001b[1m0s\u001b[0m 85ms/step\n"
     ]
    },
    {
     "name": "stderr",
     "output_type": "stream",
     "text": [
      "c:\\Users\\jucro\\anaconda3\\envs\\Python_PhD\\Lib\\site-packages\\keras\\src\\layers\\core\\dense.py:93: UserWarning: Do not pass an `input_shape`/`input_dim` argument to a layer. When using Sequential models, prefer using an `Input(shape)` object as the first layer in the model instead.\n",
      "  super().__init__(activity_regularizer=activity_regularizer, **kwargs)\n"
     ]
    },
    {
     "name": "stdout",
     "output_type": "stream",
     "text": [
      "\u001b[1m2/2\u001b[0m \u001b[32m━━━━━━━━━━━━━━━━━━━━\u001b[0m\u001b[37m\u001b[0m \u001b[1m0s\u001b[0m 88ms/step\n"
     ]
    },
    {
     "name": "stderr",
     "output_type": "stream",
     "text": [
      "c:\\Users\\jucro\\anaconda3\\envs\\Python_PhD\\Lib\\site-packages\\keras\\src\\layers\\core\\dense.py:93: UserWarning: Do not pass an `input_shape`/`input_dim` argument to a layer. When using Sequential models, prefer using an `Input(shape)` object as the first layer in the model instead.\n",
      "  super().__init__(activity_regularizer=activity_regularizer, **kwargs)\n"
     ]
    },
    {
     "name": "stdout",
     "output_type": "stream",
     "text": [
      "\u001b[1m2/2\u001b[0m \u001b[32m━━━━━━━━━━━━━━━━━━━━\u001b[0m\u001b[37m\u001b[0m \u001b[1m0s\u001b[0m 77ms/step\n"
     ]
    },
    {
     "name": "stderr",
     "output_type": "stream",
     "text": [
      "c:\\Users\\jucro\\anaconda3\\envs\\Python_PhD\\Lib\\site-packages\\keras\\src\\layers\\core\\dense.py:93: UserWarning: Do not pass an `input_shape`/`input_dim` argument to a layer. When using Sequential models, prefer using an `Input(shape)` object as the first layer in the model instead.\n",
      "  super().__init__(activity_regularizer=activity_regularizer, **kwargs)\n"
     ]
    },
    {
     "name": "stdout",
     "output_type": "stream",
     "text": [
      "\u001b[1m2/2\u001b[0m \u001b[32m━━━━━━━━━━━━━━━━━━━━\u001b[0m\u001b[37m\u001b[0m \u001b[1m0s\u001b[0m 79ms/step\n"
     ]
    },
    {
     "name": "stderr",
     "output_type": "stream",
     "text": [
      "c:\\Users\\jucro\\anaconda3\\envs\\Python_PhD\\Lib\\site-packages\\keras\\src\\layers\\core\\dense.py:93: UserWarning: Do not pass an `input_shape`/`input_dim` argument to a layer. When using Sequential models, prefer using an `Input(shape)` object as the first layer in the model instead.\n",
      "  super().__init__(activity_regularizer=activity_regularizer, **kwargs)\n"
     ]
    },
    {
     "name": "stdout",
     "output_type": "stream",
     "text": [
      "\u001b[1m2/2\u001b[0m \u001b[32m━━━━━━━━━━━━━━━━━━━━\u001b[0m\u001b[37m\u001b[0m \u001b[1m0s\u001b[0m 83ms/step\n",
      "\n",
      "=== Cross-Validation Metrics for NN Model (with 95% CI) ===\n",
      "CV Score: 0.80 ± 0.04\n",
      "Recall - 0: 0.85 ± 0.21\n",
      "Recall - 1: 0.81 ± 0.06\n",
      "Recall - 2: 0.80 ± 0.04\n",
      "Precision - Macro: 0.66 ± 0.07\n",
      "Precision - 0: 0.49 ± 0.16\n",
      "Precision - 1: 0.51 ± 0.08\n",
      "Precision - 2: 0.98 ± 0.01\n",
      "F1 Score - Macro: 0.70 ± 0.08\n",
      "F1 Score - 0: 0.61 ± 0.17\n",
      "F1 Score - 1: 0.62 ± 0.07\n",
      "F1 Score - 2: 0.88 ± 0.03\n",
      "ROC AUC - Macro: 0.89 ± 0.08\n",
      "ROC AUC - 0: 0.91 ± 0.12\n",
      "ROC AUC - 1: 0.86 ± 0.03\n",
      "ROC AUC - 2: 0.92 ± 0.02\n"
     ]
    }
   ],
   "source": [
    "X = df[['t_sens', 't_satisf', 'dl_satisf', 'sound', 'sound_satisf', 'air_quali']].values\n",
    "y_raw = df['o_satisf'].values\n",
    "\n",
    "encoder = LabelEncoder()\n",
    "y_int = encoder.fit_transform(y_raw)\n",
    "y_cat = to_categorical(y_int)\n",
    "\n",
    "scaler = StandardScaler()\n",
    "X_scaled = scaler.fit_transform(X)\n",
    "\n",
    "rs = 0\n",
    "cv = StratifiedKFold(n_splits=10, shuffle=True, random_state=rs)\n",
    "\n",
    "recall_scores = defaultdict(list)\n",
    "precision_scores = defaultdict(list)\n",
    "f1_scores = defaultdict(list)\n",
    "roc_auc_by_class = defaultdict(list)\n",
    "precision_macro, f1_macro, precision_0_vs_2, roc_auc_macro = [], [], [], []\n",
    "accuracy_scores = []\n",
    "\n",
    "for train_idx, val_idx in cv.split(X_scaled, y_int):\n",
    "    X_train, X_val = X_scaled[train_idx], X_scaled[val_idx]\n",
    "    y_train_int, y_val_int = y_int[train_idx], y_int[val_idx]\n",
    "\n",
    "    sm = ADASYN(random_state=rs)\n",
    "    X_train, y_train_int = sm.fit_resample(X_train, y_train_int) # Comment this line to run study on imbalanced data\n",
    "\n",
    "    y_train = to_categorical(y_train_int)\n",
    "    y_val = to_categorical(y_val_int)\n",
    "\n",
    "    model = Sequential()\n",
    "    model.add(Dense(100, activation='relu', input_shape=(X_train.shape[1],)))\n",
    "    model.add(Dropout(0.1))\n",
    "    model.add(Dense(60, kernel_initializer='normal', activation='relu', kernel_constraint=MaxNorm(3)))\n",
    "    model.add(Dropout(0.1))\n",
    "    model.add(Dense(3, kernel_initializer='normal', activation='softmax'))\n",
    "    model.compile(SGD(learning_rate=0.001), loss='categorical_crossentropy', metrics=['accuracy'])\n",
    "\n",
    "    model.fit(X_train, y_train, epochs=400, batch_size=10, verbose=0, validation_data=(X_val, y_val), class_weight=class_weights)\n",
    "\n",
    "    y_val_pred = model.predict(X_val)\n",
    "    y_val_pred_classes = np.argmax(y_val_pred, axis=1)\n",
    "    y_val_true = np.argmax(y_val, axis=1)\n",
    "\n",
    "    accuracy_scores.append(accuracy_score(y_val_true, y_val_pred_classes))\n",
    "\n",
    "    for label in np.unique(y_val_true):\n",
    "        recall_scores[label].append(recall_score(y_val_true, y_val_pred_classes, labels=[label], average='macro'))\n",
    "        precision_scores[label].append(precision_score(y_val_true, y_val_pred_classes, labels=[label], average='macro'))\n",
    "        f1_scores[label].append(f1_score(y_val_true, y_val_pred_classes, labels=[label], average='macro'))\n",
    "        y_bin = (y_val_true == label).astype(int)\n",
    "        roc_auc_by_class[label].append(roc_auc_score(y_bin, y_val_pred[:, label]))\n",
    "\n",
    "    precision_macro.append(precision_score(y_val_true, y_val_pred_classes, average='macro'))\n",
    "    f1_macro.append(f1_score(y_val_true, y_val_pred_classes, average='macro'))\n",
    "    roc_auc_macro.append(roc_auc_score(y_val_true, y_val_pred, multi_class='ovo', average='macro'))\n",
    "\n",
    "def mean_ci(metric_list):\n",
    "    mean = np.mean(metric_list)\n",
    "    ci = 1.96 * np.std(metric_list, ddof=1) / np.sqrt(len(metric_list))\n",
    "    return mean, ci\n",
    "\n",
    "print(\"\\n=== Cross-Validation Metrics for NN Model (with 95% CI) ===\")\n",
    "\n",
    "acc_mean, acc_ci = mean_ci(accuracy_scores)\n",
    "print(f\"CV Score: {acc_mean:.2f} ± {acc_ci:.2f}\")\n",
    "\n",
    "for label in [0, 1, 2]:\n",
    "    r_mean, r_ci = mean_ci(recall_scores[label])\n",
    "    print(f\"Recall - {label}: {r_mean:.2f} ± {r_ci:.2f}\")\n",
    "\n",
    "pm_mean, pm_ci = mean_ci(precision_macro)\n",
    "print(f\"Precision - Macro: {pm_mean:.2f} ± {pm_ci:.2f}\")\n",
    "\n",
    "for label in [0, 1, 2]:\n",
    "    p_mean, p_ci = mean_ci(precision_scores[label])\n",
    "    print(f\"Precision - {label}: {p_mean:.2f} ± {p_ci:.2f}\")\n",
    "\n",
    "fm_mean, fm_ci = mean_ci(f1_macro)\n",
    "print(f\"F1 Score - Macro: {fm_mean:.2f} ± {fm_ci:.2f}\")\n",
    "\n",
    "for label in [0, 1, 2]:\n",
    "    f_mean, f_ci = mean_ci(f1_scores[label])\n",
    "    print(f\"F1 Score - {label}: {f_mean:.2f} ± {f_ci:.2f}\")\n",
    "\n",
    "auc_macro_mean, auc_macro_ci = mean_ci(roc_auc_macro)\n",
    "print(f\"ROC AUC - Macro: {auc_macro_mean:.2f} ± {auc_macro_ci:.2f}\")\n",
    "\n",
    "for label in [0, 1, 2]:\n",
    "    auc_mean, auc_ci = mean_ci(roc_auc_by_class[label])\n",
    "    print(f\"ROC AUC - {label}: {auc_mean:.2f} ± {auc_ci:.2f}\")"
   ]
  },
  {
   "cell_type": "code",
   "execution_count": 50,
   "id": "3bf46a68",
   "metadata": {},
   "outputs": [
    {
     "name": "stderr",
     "output_type": "stream",
     "text": [
      "c:\\Users\\jucro\\anaconda3\\envs\\Python_PhD\\Lib\\site-packages\\keras\\src\\layers\\core\\dense.py:93: UserWarning: Do not pass an `input_shape`/`input_dim` argument to a layer. When using Sequential models, prefer using an `Input(shape)` object as the first layer in the model instead.\n",
      "  super().__init__(activity_regularizer=activity_regularizer, **kwargs)\n"
     ]
    },
    {
     "name": "stdout",
     "output_type": "stream",
     "text": [
      "\u001b[1m5/5\u001b[0m \u001b[32m━━━━━━━━━━━━━━━━━━━━\u001b[0m\u001b[37m\u001b[0m \u001b[1m0s\u001b[0m 23ms/step\n",
      "\u001b[1m5/5\u001b[0m \u001b[32m━━━━━━━━━━━━━━━━━━━━\u001b[0m\u001b[37m\u001b[0m \u001b[1m0s\u001b[0m 11ms/step - accuracy: 0.8519 - loss: 0.3654 \n",
      "              precision    recall  f1-score   support\n",
      "\n",
      "           0       0.50      0.83      0.62         6\n",
      "           1       0.54      0.84      0.66        25\n",
      "           2       1.00      0.84      0.92       116\n",
      "\n",
      "    accuracy                           0.84       147\n",
      "   macro avg       0.68      0.84      0.73       147\n",
      "weighted avg       0.90      0.84      0.86       147\n",
      "\n"
     ]
    }
   ],
   "source": [
    "rs = 73\n",
    "\n",
    "X = X = df[['t_sens',  't_satisf', 'dl_satisf', 'sound', 'sound_satisf', 'air_quali']]\n",
    "y = df['o_satisf']\n",
    "\n",
    "X = X.values\n",
    "X = StandardScaler().fit(X).transform(X)\n",
    "y = y.values\n",
    "\n",
    "encoder = LabelEncoder()\n",
    "y1= encoder.fit_transform(y)\n",
    "y = pd.get_dummies(y1).values\n",
    "\n",
    "X_train, X_test, y_train, y_test = train_test_split(X, y, train_size = 0.70, random_state = rs, stratify= y)\n",
    "\n",
    "sm = ADASYN(random_state=rs)\n",
    "X_train, y_train = sm.fit_resample(X_train, y_train)\n",
    "\n",
    "X_train, X_val, y_train, y_val = train_test_split(X_train, y_train, train_size = 0.80, random_state = rs)\n",
    "\n",
    "n_cols = X_train.shape[1]\n",
    "\n",
    "opt = SGD\n",
    "model = Sequential()\n",
    "model.add(Dense(100, activation='relu', input_shape=(n_cols,)))\n",
    "model.add(Dropout(0.1))\n",
    "\n",
    "model.add(Dense(60, kernel_initializer='normal', activation='relu', kernel_constraint=MaxNorm(3)))\n",
    "model.add(Dropout(0.1))\n",
    "\n",
    "model.add(Dense(3, kernel_initializer='normal', activation='softmax'))\n",
    "\n",
    "model.compile(opt(learning_rate =0.001), loss='categorical_crossentropy', metrics=['accuracy'])\n",
    "\n",
    "nn_view = model.fit(X_train, y_train, epochs=400, batch_size = 10, class_weight = class_weights, verbose = 0, validation_data=(X_val, y_val))\n",
    "\n",
    "y_pred = model.predict(X_test)\n",
    "y_test_class = np.argmax(y_test, axis = 1)\n",
    "y_pred_class = np.argmax(y_pred, axis = 1)\n",
    "score = model.evaluate(X_test, y_test)\n",
    "\n",
    "print(classification_report(y_test_class,y_pred_class))\n"
   ]
  },
  {
   "cell_type": "code",
   "execution_count": null,
   "id": "a9fb4e74",
   "metadata": {},
   "outputs": [
    {
     "data": {
      "image/png": "[encoded data removed]",
      "text/plain": [
       "<Figure size 640x480 with 2 Axes>"
      ]
     },
     "metadata": {},
     "output_type": "display_data"
    }
   ],
   "source": [
    "keras_conf_mx = confusion_matrix(y_test_class,y_pred_class, normalize = 'true')\n",
    "sns.set_theme()\n",
    "sns.set(font_scale=1.2)\n",
    "cmap = \"viridis\"\n",
    "ax = sns.heatmap(keras_conf_mx, cmap=cmap, annot=True, cbar=True, vmin=0, vmax=1,fmt='.0%')\n",
    "\n",
    "plt.yticks(fontsize = 16)\n",
    "plt.xticks(fontsize = 16)\n",
    "plt.xlabel('Predicted', fontdict = {'fontweight': 'bold', 'fontsize': 18}, color = 'darkslateblue')\n",
    "plt.ylabel('True', fontdict = {'fontweight': 'bold', 'fontsize': 18}, color = 'darkslateblue')\n",
    "plt.title('Offices - NN\\n', fontdict = {'fontweight': 'bold', 'fontsize': 18}, color = 'darkslateblue')\n",
    "\n",
    "cbar = ax.collections[0].colorbar\n",
    "cbar.set_ticks([0, .25, 0.50, .75, 1])\n",
    "cbar.set_ticklabels(['0%', '25%', '50%', '75%', '100%'], fontsize = 12)\n",
    "ax.tick_params(axis='both', which='major', labelsize=18)\n",
    "\n",
    "ax.xaxis.set_label_coords(.5, -0.2)\n",
    "ax.yaxis.set_label_coords(-0.2, .5)\n",
    "\n"
   ]
  },
  {
   "cell_type": "code",
   "execution_count": null,
   "id": "a18a5c1e",
   "metadata": {},
   "outputs": [],
   "source": [
    "# Save NN model\n",
    "\n",
    "joblib.dump(nnscaler, r'C:\\scaler_home.pkl')\n",
    "model.save(r'C:\\home_nn_model.keras')"
   ]
  },
  {
   "cell_type": "markdown",
   "id": "b1bc2e1f-ba68-4c8a-9409-42246fc4ab0d",
   "metadata": {},
   "source": [
    "## RF Model"
   ]
  },
  {
   "cell_type": "code",
   "execution_count": 15,
   "id": "a7be0eef",
   "metadata": {},
   "outputs": [
    {
     "name": "stdout",
     "output_type": "stream",
     "text": [
      "\n",
      "=== Cross-Validation Metrics with 95% Confidence Intervals ===\n",
      "CV Score: 0.82 ± 0.03\n",
      "Recall - 0: 0.85 ± 0.21\n",
      "Recall - 1: 0.77 ± 0.07\n",
      "Recall - 2: 0.83 ± 0.04\n",
      "Precision - Macro: 0.71 ± 0.08\n",
      "Precision - 0: 0.63 ± 0.22\n",
      "Precision - 1: 0.52 ± 0.06\n",
      "Precision - 2: 0.97 ± 0.02\n",
      "F1 Score - Macro: 0.74 ± 0.08\n",
      "F1 Score - 0: 0.70 ± 0.21\n",
      "F1 Score - 1: 0.61 ± 0.05\n",
      "F1 Score - 2: 0.89 ± 0.02\n",
      "ROC AUC - Macro: 0.93 ± 0.05\n",
      "ROC AUC - 0: 0.98 ± 0.03\n",
      "ROC AUC - 1: 0.89 ± 0.04\n",
      "ROC AUC - 2: 0.94 ± 0.02\n"
     ]
    }
   ],
   "source": [
    "rs = 0\n",
    "X = df[['t_sens', 't_satisf', 'dl_satisf', 'sound', 'sound_satisf', 'air_quali']].values\n",
    "y = df['o_satisf'].values\n",
    "\n",
    "skf = StratifiedKFold(n_splits=10, shuffle=True, random_state=rs)\n",
    "\n",
    "recall_scores = {label: [] for label in np.unique(y)}\n",
    "precision_scores = {label: [] for label in np.unique(y)}\n",
    "f1_scores = {label: [] for label in np.unique(y)}\n",
    "roc_auc_by_class = {label: [] for label in np.unique(y)}\n",
    "\n",
    "precision_macro, f1_macro, roc_auc_macro, accuracy_scores = [], [], [], []\n",
    "\n",
    "for train_idx, val_idx in skf.split(X, y):\n",
    "    X_train, X_val = X[train_idx], X[val_idx]\n",
    "    y_train, y_val = y[train_idx], y[val_idx]\n",
    "\n",
    "    sm = ADASYN(random_state=rs)\n",
    "    #X_train, y_train = sm.fit_resample(X_train, y_train)\n",
    "\n",
    "    model = RandomForestClassifier(\n",
    "        class_weight='balanced',\n",
    "        n_estimators=300,\n",
    "        n_jobs=-1,\n",
    "        min_samples_leaf=3,\n",
    "        min_samples_split=2,\n",
    "        max_depth=10,\n",
    "        bootstrap=False,\n",
    "        random_state=42\n",
    "    )\n",
    "\n",
    "    model.fit(X_train, y_train)\n",
    "    y_pred = model.predict(X_val)\n",
    "    y_prob = model.predict_proba(X_val)\n",
    "\n",
    "    accuracy_scores.append(accuracy_score(y_val, y_pred))\n",
    "\n",
    "    for label in np.unique(y):\n",
    "        recall_scores[label].append(recall_score(y_val, y_pred, labels=[label], average='macro'))\n",
    "        precision_scores[label].append(precision_score(y_val, y_pred, labels=[label], average='macro'))\n",
    "        f1_scores[label].append(f1_score(y_val, y_pred, labels=[label], average='macro'))\n",
    "\n",
    "    precision_macro.append(precision_score(y_val, y_pred, average='macro'))\n",
    "    f1_macro.append(f1_score(y_val, y_pred, average='macro'))\n",
    "\n",
    "    roc_auc_macro.append(roc_auc_score(y_val, y_prob, multi_class='ovo', average='macro'))\n",
    "    for label in np.unique(y):\n",
    "        y_bin = (y_val == label).astype(int)\n",
    "        roc_auc_by_class[label].append(roc_auc_score(y_bin, y_prob[:, label]))\n",
    "\n",
    "def mean_ci(metric_list):\n",
    "    mean = np.mean(metric_list)\n",
    "    ci = 1.96 * np.std(metric_list, ddof=1) / np.sqrt(len(metric_list))\n",
    "    return mean, ci\n",
    "\n",
    "print(\"\\n=== Cross-Validation Metrics with 95% Confidence Intervals ===\")\n",
    "\n",
    "acc_mean, acc_ci = mean_ci(accuracy_scores)\n",
    "print(f\"CV Score: {acc_mean:.2f} ± {acc_ci:.2f}\")\n",
    "\n",
    "for label in [0, 1, 2]:\n",
    "    r_mean, r_ci = mean_ci(recall_scores[label])\n",
    "    print(f\"Recall - {label}: {r_mean:.2f} ± {r_ci:.2f}\")\n",
    "\n",
    "pm_mean, pm_ci = mean_ci(precision_macro)\n",
    "print(f\"Precision - Macro: {pm_mean:.2f} ± {pm_ci:.2f}\")\n",
    "\n",
    "for label in [0, 1, 2]:\n",
    "    p_mean, p_ci = mean_ci(precision_scores[label])\n",
    "    print(f\"Precision - {label}: {p_mean:.2f} ± {p_ci:.2f}\")\n",
    "\n",
    "fm_mean, fm_ci = mean_ci(f1_macro)\n",
    "print(f\"F1 Score - Macro: {fm_mean:.2f} ± {fm_ci:.2f}\")\n",
    "\n",
    "for label in [0, 1, 2]:\n",
    "    f_mean, f_ci = mean_ci(f1_scores[label])\n",
    "    print(f\"F1 Score - {label}: {f_mean:.2f} ± {f_ci:.2f}\")\n",
    "\n",
    "auc_macro_mean, auc_macro_ci = mean_ci(roc_auc_macro)\n",
    "print(f\"ROC AUC - Macro: {auc_macro_mean:.2f} ± {auc_macro_ci:.2f}\")\n",
    "\n",
    "for label in [0, 1, 2]:\n",
    "    auc_mean, auc_ci = mean_ci(roc_auc_by_class[label])\n",
    "    print(f\"ROC AUC - {label}: {auc_mean:.2f} ± {auc_ci:.2f}\")"
   ]
  },
  {
   "cell_type": "code",
   "execution_count": 52,
   "id": "ffe65f0f",
   "metadata": {},
   "outputs": [
    {
     "name": "stdout",
     "output_type": "stream",
     "text": [
      "              precision    recall  f1-score   support\n",
      "\n",
      "           0       0.75      1.00      0.86         6\n",
      "           1       0.52      0.92      0.67        25\n",
      "           2       0.99      0.81      0.89       116\n",
      "\n",
      "    accuracy                           0.84       147\n",
      "   macro avg       0.75      0.91      0.80       147\n",
      "weighted avg       0.90      0.84      0.85       147\n",
      "\n"
     ]
    }
   ],
   "source": [
    "rs = 73\n",
    "\n",
    "X = df[['t_sens', 't_satisf', 'dl_satisf', 'sound', 'sound_satisf', 'air_quali']]\n",
    "y = df['o_satisf']\n",
    "\n",
    "sm = ADASYN(random_state=rs)\n",
    "X_train, X_test, y_train, y_test = train_test_split(X, y, train_size=0.70, random_state=rs, stratify=y)\n",
    "#X_train, y_train = sm.fit_resample(X_train, y_train)\n",
    "\n",
    "rf_model = RandomForestClassifier(\n",
    "    class_weight= 'balanced',\n",
    "    n_estimators=300,\n",
    "    n_jobs=-1,\n",
    "    min_samples_leaf=3,\n",
    "    min_samples_split=2,\n",
    "    max_depth=10,\n",
    "    bootstrap=False,\n",
    "    random_state=42\n",
    ")\n",
    "\n",
    "rf_model.fit(X_train, y_train)\n",
    "\n",
    "y_pred = rf_model.predict(X_test)\n",
    "y_prob = rf_model.predict_proba(X_test)\n",
    "\n",
    "print(classification_report(y_test,y_pred))\n",
    "\n"
   ]
  },
  {
   "cell_type": "code",
   "execution_count": null,
   "id": "d028a6e9",
   "metadata": {},
   "outputs": [
    {
     "data": {
      "image/png": "[encoded data removed]",
      "text/plain": [
       "<Figure size 640x480 with 2 Axes>"
      ]
     },
     "metadata": {},
     "output_type": "display_data"
    }
   ],
   "source": [
    "rf_conf_mx = confusion_matrix(y_test,y_pred, normalize='true')\n",
    "\n",
    "sns.set_theme()\n",
    "sns.set(font_scale=1.2)\n",
    "cmap = \"viridis\"\n",
    "ax = sns.heatmap(rf_conf_mx, cmap=cmap, annot=True, cbar=True, vmin=0, vmax=1, fmt='.0%')\n",
    "\n",
    "plt.yticks(fontsize = 16)\n",
    "plt.xticks(fontsize = 16)\n",
    "plt.xlabel('Predicted', fontdict = {'fontweight': 'bold', 'fontsize': 18}, color = 'darkslateblue')\n",
    "plt.ylabel('True', fontdict = {'fontweight': 'bold', 'fontsize': 18}, color = 'darkslateblue')\n",
    "plt.title('Offices - RF\\n', fontdict = {'fontweight': 'bold', 'fontsize': 18}, color = 'darkslateblue')\n",
    "\n",
    "cbar = ax.collections[0].colorbar\n",
    "cbar.set_ticks([0, .25, 0.50, .75, 1])\n",
    "cbar.set_ticklabels(['0%', '25%', '50%', '75%', '100%'], fontsize = 12)\n",
    "ax.tick_params(axis='both', which='major', labelsize=18)\n",
    "\n",
    "ax.xaxis.set_label_coords(.5, -0.2)\n",
    "ax.yaxis.set_label_coords(-0.2, .5)\n"
   ]
  },
  {
   "cell_type": "code",
   "execution_count": null,
   "id": "d30bf58a",
   "metadata": {},
   "outputs": [],
   "source": [
    "##Save RF model\n",
    "\n",
    "joblib.dump(rf_model, r'C:\\office_rf_model.joblib')"
   ]
  }
 ],
 "metadata": {
  "kernelspec": {
   "display_name": "Python_PhD",
   "language": "python",
   "name": "python3"
  },
  "language_info": {
   "codemirror_mode": {
    "name": "ipython",
    "version": 3
   },
   "file_extension": ".py",
   "mimetype": "text/x-python",
   "name": "python",
   "nbconvert_exporter": "python",
   "pygments_lexer": "ipython3",
   "version": "3.12.9"
  }
 },
 "nbformat": 4,
 "nbformat_minor": 5
}
